{
  "nbformat": 4,
  "nbformat_minor": 0,
  "metadata": {
    "colab": {
      "provenance": [],
      "mount_file_id": "1fYlg9unRm4ncqH0TzdmLLT7nFtboFhJA",
      "authorship_tag": "ABX9TyM+LlrlTqV3Z0rJS8FZsVOP",
      "include_colab_link": true
    },
    "kernelspec": {
      "name": "python3",
      "display_name": "Python 3"
    },
    "language_info": {
      "name": "python"
    }
  },
  "cells": [
    {
      "cell_type": "markdown",
      "metadata": {
        "id": "view-in-github",
        "colab_type": "text"
      },
      "source": [
        "<a href=\"https://colab.research.google.com/github/pavi-1994/Principal-Component-Analysis-PCA-/blob/main/pca.ipynb\" target=\"_parent\"><img src=\"https://colab.research.google.com/assets/colab-badge.svg\" alt=\"Open In Colab\"/></a>"
      ]
    },
    {
      "cell_type": "markdown",
      "source": [
        "Download the dataset by clicking this link https://visualize.data.gov.in/?inst=30890ef5-6194-4500-9751-c4e1df1ef76c  X-axis year and  Y-axis (National waterways-I, National Waterways-II, National waterways-III) Apply Principle component analysis without any library packages of PCA (Use only mathematical library  packages)  and reduce its dimension (Graphical Visualization is Mandatory)"
      ],
      "metadata": {
        "id": "gdtlDn8bKMkX"
      }
    },
    {
      "cell_type": "code",
      "execution_count": null,
      "metadata": {
        "id": "DIUEdo1MJlW-"
      },
      "outputs": [],
      "source": [
        "import pandas as pd\n",
        "import numpy as np"
      ]
    },
    {
      "cell_type": "code",
      "source": [
        "file_path=\"/content/drive/MyDrive/Gilbert_internship/national_waterways.csv\""
      ],
      "metadata": {
        "id": "3eJL67VEK9Lc"
      },
      "execution_count": null,
      "outputs": []
    },
    {
      "cell_type": "code",
      "source": [
        "df=pd.read_csv(file_path)"
      ],
      "metadata": {
        "id": "ODmbtJONKjbH"
      },
      "execution_count": null,
      "outputs": []
    },
    {
      "cell_type": "code",
      "source": [
        "df"
      ],
      "metadata": {
        "colab": {
          "base_uri": "https://localhost:8080/",
          "height": 394
        },
        "id": "td3xCclHLFa9",
        "outputId": "b45a8af0-f347-4a2c-d40e-af981f0215ab"
      },
      "execution_count": null,
      "outputs": [
        {
          "output_type": "execute_result",
          "data": {
            "text/plain": [
              "       YEAR  National Waterways- I  National Waterways- II  \\\n",
              "0   2003-04                   1596                     296   \n",
              "1   2004-05                   3119                     381   \n",
              "2   2005-06                   4109                     322   \n",
              "3   2006-07                   5803                    1728   \n",
              "4   2007-08                   7092                     422   \n",
              "5   2008-09                   7068                     142   \n",
              "6   2009-10                  10402                      74   \n",
              "7   2010-11                  12302                     573   \n",
              "8   2011-12                  14546                     613   \n",
              "9   2012-13                  15119                     580   \n",
              "10  2013-14                  18512                     594   \n",
              "\n",
              "    National Waterways-III  Total  \n",
              "0                      219   2111  \n",
              "1                      154   3654  \n",
              "2                      169   4600  \n",
              "3                      149   7680  \n",
              "4                       89   7603  \n",
              "5                      109   7319  \n",
              "6                       97  10573  \n",
              "7                      142  13017  \n",
              "8                      132  15291  \n",
              "9                      139  15838  \n",
              "10                     116  19222  "
            ],
            "text/html": [
              "\n",
              "  <div id=\"df-0b55f622-5ae3-48e3-8a23-76337dadd8b2\" class=\"colab-df-container\">\n",
              "    <div>\n",
              "<style scoped>\n",
              "    .dataframe tbody tr th:only-of-type {\n",
              "        vertical-align: middle;\n",
              "    }\n",
              "\n",
              "    .dataframe tbody tr th {\n",
              "        vertical-align: top;\n",
              "    }\n",
              "\n",
              "    .dataframe thead th {\n",
              "        text-align: right;\n",
              "    }\n",
              "</style>\n",
              "<table border=\"1\" class=\"dataframe\">\n",
              "  <thead>\n",
              "    <tr style=\"text-align: right;\">\n",
              "      <th></th>\n",
              "      <th>YEAR</th>\n",
              "      <th>National Waterways- I</th>\n",
              "      <th>National Waterways- II</th>\n",
              "      <th>National Waterways-III</th>\n",
              "      <th>Total</th>\n",
              "    </tr>\n",
              "  </thead>\n",
              "  <tbody>\n",
              "    <tr>\n",
              "      <th>0</th>\n",
              "      <td>2003-04</td>\n",
              "      <td>1596</td>\n",
              "      <td>296</td>\n",
              "      <td>219</td>\n",
              "      <td>2111</td>\n",
              "    </tr>\n",
              "    <tr>\n",
              "      <th>1</th>\n",
              "      <td>2004-05</td>\n",
              "      <td>3119</td>\n",
              "      <td>381</td>\n",
              "      <td>154</td>\n",
              "      <td>3654</td>\n",
              "    </tr>\n",
              "    <tr>\n",
              "      <th>2</th>\n",
              "      <td>2005-06</td>\n",
              "      <td>4109</td>\n",
              "      <td>322</td>\n",
              "      <td>169</td>\n",
              "      <td>4600</td>\n",
              "    </tr>\n",
              "    <tr>\n",
              "      <th>3</th>\n",
              "      <td>2006-07</td>\n",
              "      <td>5803</td>\n",
              "      <td>1728</td>\n",
              "      <td>149</td>\n",
              "      <td>7680</td>\n",
              "    </tr>\n",
              "    <tr>\n",
              "      <th>4</th>\n",
              "      <td>2007-08</td>\n",
              "      <td>7092</td>\n",
              "      <td>422</td>\n",
              "      <td>89</td>\n",
              "      <td>7603</td>\n",
              "    </tr>\n",
              "    <tr>\n",
              "      <th>5</th>\n",
              "      <td>2008-09</td>\n",
              "      <td>7068</td>\n",
              "      <td>142</td>\n",
              "      <td>109</td>\n",
              "      <td>7319</td>\n",
              "    </tr>\n",
              "    <tr>\n",
              "      <th>6</th>\n",
              "      <td>2009-10</td>\n",
              "      <td>10402</td>\n",
              "      <td>74</td>\n",
              "      <td>97</td>\n",
              "      <td>10573</td>\n",
              "    </tr>\n",
              "    <tr>\n",
              "      <th>7</th>\n",
              "      <td>2010-11</td>\n",
              "      <td>12302</td>\n",
              "      <td>573</td>\n",
              "      <td>142</td>\n",
              "      <td>13017</td>\n",
              "    </tr>\n",
              "    <tr>\n",
              "      <th>8</th>\n",
              "      <td>2011-12</td>\n",
              "      <td>14546</td>\n",
              "      <td>613</td>\n",
              "      <td>132</td>\n",
              "      <td>15291</td>\n",
              "    </tr>\n",
              "    <tr>\n",
              "      <th>9</th>\n",
              "      <td>2012-13</td>\n",
              "      <td>15119</td>\n",
              "      <td>580</td>\n",
              "      <td>139</td>\n",
              "      <td>15838</td>\n",
              "    </tr>\n",
              "    <tr>\n",
              "      <th>10</th>\n",
              "      <td>2013-14</td>\n",
              "      <td>18512</td>\n",
              "      <td>594</td>\n",
              "      <td>116</td>\n",
              "      <td>19222</td>\n",
              "    </tr>\n",
              "  </tbody>\n",
              "</table>\n",
              "</div>\n",
              "    <div class=\"colab-df-buttons\">\n",
              "\n",
              "  <div class=\"colab-df-container\">\n",
              "    <button class=\"colab-df-convert\" onclick=\"convertToInteractive('df-0b55f622-5ae3-48e3-8a23-76337dadd8b2')\"\n",
              "            title=\"Convert this dataframe to an interactive table.\"\n",
              "            style=\"display:none;\">\n",
              "\n",
              "  <svg xmlns=\"http://www.w3.org/2000/svg\" height=\"24px\" viewBox=\"0 -960 960 960\">\n",
              "    <path d=\"M120-120v-720h720v720H120Zm60-500h600v-160H180v160Zm220 220h160v-160H400v160Zm0 220h160v-160H400v160ZM180-400h160v-160H180v160Zm440 0h160v-160H620v160ZM180-180h160v-160H180v160Zm440 0h160v-160H620v160Z\"/>\n",
              "  </svg>\n",
              "    </button>\n",
              "\n",
              "  <style>\n",
              "    .colab-df-container {\n",
              "      display:flex;\n",
              "      gap: 12px;\n",
              "    }\n",
              "\n",
              "    .colab-df-convert {\n",
              "      background-color: #E8F0FE;\n",
              "      border: none;\n",
              "      border-radius: 50%;\n",
              "      cursor: pointer;\n",
              "      display: none;\n",
              "      fill: #1967D2;\n",
              "      height: 32px;\n",
              "      padding: 0 0 0 0;\n",
              "      width: 32px;\n",
              "    }\n",
              "\n",
              "    .colab-df-convert:hover {\n",
              "      background-color: #E2EBFA;\n",
              "      box-shadow: 0px 1px 2px rgba(60, 64, 67, 0.3), 0px 1px 3px 1px rgba(60, 64, 67, 0.15);\n",
              "      fill: #174EA6;\n",
              "    }\n",
              "\n",
              "    .colab-df-buttons div {\n",
              "      margin-bottom: 4px;\n",
              "    }\n",
              "\n",
              "    [theme=dark] .colab-df-convert {\n",
              "      background-color: #3B4455;\n",
              "      fill: #D2E3FC;\n",
              "    }\n",
              "\n",
              "    [theme=dark] .colab-df-convert:hover {\n",
              "      background-color: #434B5C;\n",
              "      box-shadow: 0px 1px 3px 1px rgba(0, 0, 0, 0.15);\n",
              "      filter: drop-shadow(0px 1px 2px rgba(0, 0, 0, 0.3));\n",
              "      fill: #FFFFFF;\n",
              "    }\n",
              "  </style>\n",
              "\n",
              "    <script>\n",
              "      const buttonEl =\n",
              "        document.querySelector('#df-0b55f622-5ae3-48e3-8a23-76337dadd8b2 button.colab-df-convert');\n",
              "      buttonEl.style.display =\n",
              "        google.colab.kernel.accessAllowed ? 'block' : 'none';\n",
              "\n",
              "      async function convertToInteractive(key) {\n",
              "        const element = document.querySelector('#df-0b55f622-5ae3-48e3-8a23-76337dadd8b2');\n",
              "        const dataTable =\n",
              "          await google.colab.kernel.invokeFunction('convertToInteractive',\n",
              "                                                    [key], {});\n",
              "        if (!dataTable) return;\n",
              "\n",
              "        const docLinkHtml = 'Like what you see? Visit the ' +\n",
              "          '<a target=\"_blank\" href=https://colab.research.google.com/notebooks/data_table.ipynb>data table notebook</a>'\n",
              "          + ' to learn more about interactive tables.';\n",
              "        element.innerHTML = '';\n",
              "        dataTable['output_type'] = 'display_data';\n",
              "        await google.colab.output.renderOutput(dataTable, element);\n",
              "        const docLink = document.createElement('div');\n",
              "        docLink.innerHTML = docLinkHtml;\n",
              "        element.appendChild(docLink);\n",
              "      }\n",
              "    </script>\n",
              "  </div>\n",
              "\n",
              "\n",
              "<div id=\"df-fae37bcb-e871-45ce-9f0a-54a920147f38\">\n",
              "  <button class=\"colab-df-quickchart\" onclick=\"quickchart('df-fae37bcb-e871-45ce-9f0a-54a920147f38')\"\n",
              "            title=\"Suggest charts.\"\n",
              "            style=\"display:none;\">\n",
              "\n",
              "<svg xmlns=\"http://www.w3.org/2000/svg\" height=\"24px\"viewBox=\"0 0 24 24\"\n",
              "     width=\"24px\">\n",
              "    <g>\n",
              "        <path d=\"M19 3H5c-1.1 0-2 .9-2 2v14c0 1.1.9 2 2 2h14c1.1 0 2-.9 2-2V5c0-1.1-.9-2-2-2zM9 17H7v-7h2v7zm4 0h-2V7h2v10zm4 0h-2v-4h2v4z\"/>\n",
              "    </g>\n",
              "</svg>\n",
              "  </button>\n",
              "\n",
              "<style>\n",
              "  .colab-df-quickchart {\n",
              "      --bg-color: #E8F0FE;\n",
              "      --fill-color: #1967D2;\n",
              "      --hover-bg-color: #E2EBFA;\n",
              "      --hover-fill-color: #174EA6;\n",
              "      --disabled-fill-color: #AAA;\n",
              "      --disabled-bg-color: #DDD;\n",
              "  }\n",
              "\n",
              "  [theme=dark] .colab-df-quickchart {\n",
              "      --bg-color: #3B4455;\n",
              "      --fill-color: #D2E3FC;\n",
              "      --hover-bg-color: #434B5C;\n",
              "      --hover-fill-color: #FFFFFF;\n",
              "      --disabled-bg-color: #3B4455;\n",
              "      --disabled-fill-color: #666;\n",
              "  }\n",
              "\n",
              "  .colab-df-quickchart {\n",
              "    background-color: var(--bg-color);\n",
              "    border: none;\n",
              "    border-radius: 50%;\n",
              "    cursor: pointer;\n",
              "    display: none;\n",
              "    fill: var(--fill-color);\n",
              "    height: 32px;\n",
              "    padding: 0;\n",
              "    width: 32px;\n",
              "  }\n",
              "\n",
              "  .colab-df-quickchart:hover {\n",
              "    background-color: var(--hover-bg-color);\n",
              "    box-shadow: 0 1px 2px rgba(60, 64, 67, 0.3), 0 1px 3px 1px rgba(60, 64, 67, 0.15);\n",
              "    fill: var(--button-hover-fill-color);\n",
              "  }\n",
              "\n",
              "  .colab-df-quickchart-complete:disabled,\n",
              "  .colab-df-quickchart-complete:disabled:hover {\n",
              "    background-color: var(--disabled-bg-color);\n",
              "    fill: var(--disabled-fill-color);\n",
              "    box-shadow: none;\n",
              "  }\n",
              "\n",
              "  .colab-df-spinner {\n",
              "    border: 2px solid var(--fill-color);\n",
              "    border-color: transparent;\n",
              "    border-bottom-color: var(--fill-color);\n",
              "    animation:\n",
              "      spin 1s steps(1) infinite;\n",
              "  }\n",
              "\n",
              "  @keyframes spin {\n",
              "    0% {\n",
              "      border-color: transparent;\n",
              "      border-bottom-color: var(--fill-color);\n",
              "      border-left-color: var(--fill-color);\n",
              "    }\n",
              "    20% {\n",
              "      border-color: transparent;\n",
              "      border-left-color: var(--fill-color);\n",
              "      border-top-color: var(--fill-color);\n",
              "    }\n",
              "    30% {\n",
              "      border-color: transparent;\n",
              "      border-left-color: var(--fill-color);\n",
              "      border-top-color: var(--fill-color);\n",
              "      border-right-color: var(--fill-color);\n",
              "    }\n",
              "    40% {\n",
              "      border-color: transparent;\n",
              "      border-right-color: var(--fill-color);\n",
              "      border-top-color: var(--fill-color);\n",
              "    }\n",
              "    60% {\n",
              "      border-color: transparent;\n",
              "      border-right-color: var(--fill-color);\n",
              "    }\n",
              "    80% {\n",
              "      border-color: transparent;\n",
              "      border-right-color: var(--fill-color);\n",
              "      border-bottom-color: var(--fill-color);\n",
              "    }\n",
              "    90% {\n",
              "      border-color: transparent;\n",
              "      border-bottom-color: var(--fill-color);\n",
              "    }\n",
              "  }\n",
              "</style>\n",
              "\n",
              "  <script>\n",
              "    async function quickchart(key) {\n",
              "      const quickchartButtonEl =\n",
              "        document.querySelector('#' + key + ' button');\n",
              "      quickchartButtonEl.disabled = true;  // To prevent multiple clicks.\n",
              "      quickchartButtonEl.classList.add('colab-df-spinner');\n",
              "      try {\n",
              "        const charts = await google.colab.kernel.invokeFunction(\n",
              "            'suggestCharts', [key], {});\n",
              "      } catch (error) {\n",
              "        console.error('Error during call to suggestCharts:', error);\n",
              "      }\n",
              "      quickchartButtonEl.classList.remove('colab-df-spinner');\n",
              "      quickchartButtonEl.classList.add('colab-df-quickchart-complete');\n",
              "    }\n",
              "    (() => {\n",
              "      let quickchartButtonEl =\n",
              "        document.querySelector('#df-fae37bcb-e871-45ce-9f0a-54a920147f38 button');\n",
              "      quickchartButtonEl.style.display =\n",
              "        google.colab.kernel.accessAllowed ? 'block' : 'none';\n",
              "    })();\n",
              "  </script>\n",
              "</div>\n",
              "    </div>\n",
              "  </div>\n"
            ]
          },
          "metadata": {},
          "execution_count": 4
        }
      ]
    },
    {
      "cell_type": "markdown",
      "source": [
        "### Here we exclude year column  because it is a categorical variable and it does not have meaningfull relation with other variable in data\n",
        "\n",
        "### also we are going to avoid the total  column because  which is nothing but sum of national water ways 1, national waterways 2 and national water ways 3  including total can introduce noise it may reduce the quality of finding meaning full relation"
      ],
      "metadata": {
        "id": "LtaVY7oYMa5c"
      }
    },
    {
      "cell_type": "code",
      "source": [
        "data = df[['National Waterways- I', 'National Waterways- II', 'National Waterways-III']].values"
      ],
      "metadata": {
        "id": "Lac7DRTWLQ0-"
      },
      "execution_count": null,
      "outputs": []
    },
    {
      "cell_type": "code",
      "source": [
        "def calculate_covariance_matrix(data):\n",
        "    n = data.shape[0]\n",
        "    mean = np.mean(data, axis=0)\n",
        "    centered_data = data - mean\n",
        "    m = centered_data.shape[1]\n",
        "    cov_matrix = np.zeros((m, m))\n",
        "\n",
        "    for i in range(m):\n",
        "        for j in range(m):\n",
        "            cov_matrix[i, j] = np.sum(centered_data[:, i] * centered_data[:, j]) / (n - 1)\n",
        "\n",
        "    return cov_matrix"
      ],
      "metadata": {
        "id": "QybgCSrJORKt"
      },
      "execution_count": null,
      "outputs": []
    },
    {
      "cell_type": "code",
      "source": [
        "cov_matrix = calculate_covariance_matrix(data)\n",
        "cov_matrix"
      ],
      "metadata": {
        "colab": {
          "base_uri": "https://localhost:8080/"
        },
        "id": "1KX1PWwLP3L2",
        "outputId": "ed168f8a-bf17-4c3d-ee9d-80b613fa5d3f"
      },
      "execution_count": null,
      "outputs": [
        {
          "output_type": "execute_result",
          "data": {
            "text/plain": [
              "array([[ 3.02427818e+07,  1.63589336e+05, -1.01160082e+05],\n",
              "       [ 1.63589336e+05,  1.93990073e+05,  1.89193636e+03],\n",
              "       [-1.01160082e+05,  1.89193636e+03,  1.33581818e+03]])"
            ]
          },
          "metadata": {},
          "execution_count": 7
        }
      ]
    },
    {
      "cell_type": "code",
      "source": [
        "eigenvalues, eigenvectors = np.linalg.eig(cov_matrix)\n",
        "\n",
        "print(eigenvalues, eigenvectors )"
      ],
      "metadata": {
        "colab": {
          "base_uri": "https://localhost:8080/"
        },
        "id": "bNCBH6NZP9zl",
        "outputId": "5cebd845-76b1-4dfe-be39-cf26f9df1eb4"
      },
      "execution_count": null,
      "outputs": [
        {
          "output_type": "stream",
          "name": "stdout",
          "text": [
            "[3.02440107e+07 1.93130551e+05 9.66469315e+02] [[ 0.99997959  0.00540065  0.00341342]\n",
            " [ 0.00544358 -0.99990461 -0.01269364]\n",
            " [-0.00334454 -0.01271196  0.99991361]]\n"
          ]
        }
      ]
    },
    {
      "cell_type": "code",
      "source": [
        "sorted_indices = np.argsort(eigenvalues)[::-1]"
      ],
      "metadata": {
        "id": "lQqUYHwsQDFr"
      },
      "execution_count": null,
      "outputs": []
    },
    {
      "cell_type": "code",
      "source": [
        "selected_eigenvectors = eigenvectors[:, sorted_indices[:2]]\n"
      ],
      "metadata": {
        "id": "FSktIGAkR9WJ"
      },
      "execution_count": null,
      "outputs": []
    },
    {
      "cell_type": "code",
      "source": [
        "def project_onto_eigenvectors(data, eigenvectors):\n",
        "    n = data.shape[0]\n",
        "    m = eigenvectors.shape[1]\n",
        "    reduced_data = np.zeros((n, m))\n",
        "\n",
        "    for i in range(n):\n",
        "        for j in range(m):\n",
        "            for k in range(data.shape[1]):\n",
        "                reduced_data[i, j] += data[i, k] * eigenvectors[k, j]\n",
        "\n",
        "    return reduced_data"
      ],
      "metadata": {
        "id": "hDUQK8HyQJRv"
      },
      "execution_count": null,
      "outputs": []
    },
    {
      "cell_type": "code",
      "source": [
        "final_reduced_data=project_onto_eigenvectors(data , selected_eigenvectors)\n",
        "final_reduced_data"
      ],
      "metadata": {
        "colab": {
          "base_uri": "https://localhost:8080/"
        },
        "id": "mDb0KRDfQZ0p",
        "outputId": "cd82fc0f-d763-4a39-ab1e-26ddd77bcb36"
      },
      "execution_count": null,
      "outputs": [
        {
          "output_type": "execute_result",
          "data": {
            "text/plain": [
              "array([[ 1596.84627258,  -290.13623994],\n",
              "       [ 3120.49528808,  -366.07665788],\n",
              "       [ 4110.10374351,  -301.92631683],\n",
              "       [ 5811.78973311, -1698.38925731],\n",
              "       [ 7093.85478295,  -384.78966879],\n",
              "       [ 7068.26417985,  -105.20023147],\n",
              "       [10401.8661058 ,   -19.04839146],\n",
              "       [12304.39316979,  -508.31158855],\n",
              "       [14548.59855952,  -536.06158447],\n",
              "       [15121.38381504,  -500.05914075],\n",
              "       [18514.46770023,  -495.44100901]])"
            ]
          },
          "metadata": {},
          "execution_count": 12
        }
      ]
    },
    {
      "cell_type": "code",
      "source": [
        "import matplotlib.pyplot as plt\n",
        "\n",
        "plt.figure(figsize=(10, 6))\n",
        "plt.scatter(final_reduced_data[:, 0], final_reduced_data[:, 1])\n",
        "plt.xlabel('Principal Component 1')\n",
        "plt.ylabel('Principal Component 2')\n",
        "plt.title('PCA of Waterway Data')\n",
        "plt.show()"
      ],
      "metadata": {
        "colab": {
          "base_uri": "https://localhost:8080/",
          "height": 564
        },
        "id": "OBF6gcWrQyJn",
        "outputId": "6a538070-b32d-4da4-e0ac-ab137723ab10"
      },
      "execution_count": null,
      "outputs": [
        {
          "output_type": "display_data",
          "data": {
            "text/plain": [
              "<Figure size 1000x600 with 1 Axes>"
            ],
            "image/png": "[encoded data removed]"
          },
          "metadata": {}
        }
      ]
    },
    {
      "cell_type": "code",
      "source": [],
      "metadata": {
        "id": "NGdeZJoWQ8nK"
      },
      "execution_count": null,
      "outputs": []
    }
  ]
}